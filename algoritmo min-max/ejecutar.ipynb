{
 "cells": [
  {
   "cell_type": "markdown",
   "metadata": {},
   "source": [
    "# Juan Pablo Ortiz\n",
    "# Kenneth Leonel Triana\n",
    "# Abrahan Ayala"
   ]
  },
  {
   "cell_type": "code",
   "execution_count": 1,
   "metadata": {},
   "outputs": [],
   "source": [
    "from modificacion_min_max import *"
   ]
  },
  {
   "cell_type": "code",
   "execution_count": 2,
   "metadata": {},
   "outputs": [],
   "source": [
    "# Rojo\n",
    "jugador_1 = Jugador(1, 39, 34)\n",
    "# Verde\n",
    "jugador_2 = Jugador(2, 56, 51)\n",
    "\n",
    "# Jugar\n",
    "estado = {\n",
    "    1: { # Jugador 1\n",
    "        1: { # Ficha 1\n",
    "            'tipo': 'casa', # tablero, pasillo, casa, meta\n",
    "            'casilla': 0, # numero de casilla 1-68 o 1-8\n",
    "        },\n",
    "        2: { # Ficha 2\n",
    "            'tipo': 'casa', # tablero, pasillo, casa, meta\n",
    "            'casilla': 0, # numero de casilla 1-68 o 1-8\n",
    "        }\n",
    "    },\n",
    "    2: { # Jugador 2\n",
    "        1: { # Ficha 1    \n",
    "            'tipo': 'casa', # tablero, pasillo, casa, meta\n",
    "            'casilla': 0, # numero de casilla 1-68 o 1-8\n",
    "        },\n",
    "        2: { # Ficha 2\n",
    "            'tipo': 'casa', # tablero, pasillo, casa, meta\n",
    "            'casilla': 0,# numero de casilla 1-68 o 1-8\n",
    "        }\n",
    "    }\n",
    "}\n",
    "\n",
    "problema = Problema(Nodo(None, estado, None, 0), jugador_1, jugador_2)"
   ]
  },
  {
   "cell_type": "code",
   "execution_count": 3,
   "metadata": {},
   "outputs": [],
   "source": [
    "min_max: Nodo = MINMAX(problema, profundidad=5)"
   ]
  },
  {
   "cell_type": "code",
   "execution_count": 4,
   "metadata": {},
   "outputs": [
    {
     "name": "stdout",
     "output_type": "stream",
     "text": [
      "Resultado:\n",
      "Utilidad: 20\n",
      "Estado: {1: {1: {'tipo': 'tablero', 'casilla': 40}, 2: {'tipo': 'tablero', 'casilla': 39}}, 2: {1: {'tipo': 'tablero', 'casilla': 58}, 2: {'tipo': 'casa', 'casilla': 0}}}\n",
      "Accion: {'jugador': 2, 'mover': 1, 'ficha': 1}\n"
     ]
    }
   ],
   "source": [
    "print(\"Resultado:\")\n",
    "print(\"Utilidad: {}\".format(min_max.utilidad))\n",
    "print(\"Estado: {}\".format(min_max.estado))\n",
    "print(\"Accion: {}\".format(min_max.accion))"
   ]
  },
  {
   "cell_type": "code",
   "execution_count": 5,
   "metadata": {},
   "outputs": [
    {
     "name": "stdout",
     "output_type": "stream",
     "text": [
      "El jugador 1 ha sacado 4\n",
      "El jugador 2 ha sacado 3\n",
      "El jugador 1 ha sacado 5\n",
      "Resultado: 20\n",
      "Estado: {1: {1: {'tipo': 'tablero', 'casilla': 39}, 2: {'tipo': 'casa', 'casilla': 0}}, 2: {1: {'tipo': 'casa', 'casilla': 0}, 2: {'tipo': 'casa', 'casilla': 0}}}\n",
      "Accion: {'jugador': 1, 'mover': 5, 'ficha': 1}\n",
      "El jugador 2 ha sacado 4\n",
      "Resultado: 6\n",
      "Estado: {1: {1: {'tipo': 'tablero', 'casilla': 40}, 2: {'tipo': 'tablero', 'casilla': 39}}, 2: {1: {'tipo': 'tablero', 'casilla': 62}, 2: {'tipo': 'casa', 'casilla': 0}}}\n",
      "Accion: {'jugador': 2, 'mover': 4, 'ficha': 1}\n",
      "El jugador 1 ha sacado 5\n",
      "Resultado: 36\n",
      "Estado: {1: {1: {'tipo': 'tablero', 'casilla': 48}, 2: {'tipo': 'tablero', 'casilla': 44}}, 2: {1: {'tipo': 'tablero', 'casilla': 64}, 2: {'tipo': 'casa', 'casilla': 0}}}\n",
      "Accion: {'jugador': 1, 'mover': 5, 'ficha': 2}\n",
      "El jugador 2 ha sacado 3\n",
      "Resultado: 6\n",
      "Estado: {1: {1: {'tipo': 'tablero', 'casilla': 51}, 2: {'tipo': 'tablero', 'casilla': 46}}, 2: {1: {'tipo': 'tablero', 'casilla': 2}, 2: {'tipo': 'casa', 'casilla': 0}}}\n",
      "Accion: {'jugador': 2, 'mover': 3, 'ficha': 1}\n",
      "El jugador 1 ha sacado 3\n",
      "Resultado: 36\n",
      "Estado: {1: {1: {'tipo': 'tablero', 'casilla': 62}, 2: {'tipo': 'tablero', 'casilla': 46}}, 2: {1: {'tipo': 'tablero', 'casilla': 4}, 2: {'tipo': 'casa', 'casilla': 0}}}\n",
      "Accion: {'jugador': 1, 'mover': 3, 'ficha': 1}\n",
      "El jugador 2 ha sacado 3\n",
      "Resultado: 6\n",
      "Estado: {1: {1: {'tipo': 'tablero', 'casilla': 68}, 2: {'tipo': 'tablero', 'casilla': 46}}, 2: {1: {'tipo': 'tablero', 'casilla': 10}, 2: {'tipo': 'casa', 'casilla': 0}}}\n",
      "Accion: {'jugador': 2, 'mover': 3, 'ficha': 1}\n"
     ]
    }
   ],
   "source": [
    "from random import *\n",
    "\n",
    "# ADVERTENCIA:\n",
    "# Esta prueba está configurada para una profundidad de 5 fija, en caso de querer cambiarla:\n",
    "# En las lineas 18,19,30 y 31 agregar o quitar la cantidad de .padre que es la cantidad de profundidad\n",
    "\n",
    "# Realizar proceso de jugar de parchis\n",
    "jugador = 1\n",
    "dado = randint(1, 6)\n",
    "resultado_actual = Nodo(None, estado, None, 0)\n",
    "problema = Problema(resultado_actual, jugador_1, jugador_2)\n",
    "resultado: Nodo = MINMAX(problema, profundidad=5, mover=dado)\n",
    "\n",
    "print(\"El jugador {} ha sacado {}\".format(jugador, dado))\n",
    "if resultado is not None: # Si es none es que no hay jugadas\n",
    "    resultado_actual = resultado\n",
    "    print(\"Resultado: {}\".format(resultado.utilidad))\n",
    "    print(\"Estado: {}\".format(resultado.padre.padre.padre.padre.padre.estado))\n",
    "    print(\"Accion: {}\".format(resultado.padre.padre.padre.padre.padre.accion))\n",
    "\n",
    "for i in range(7):\n",
    "    jugador = 1 if jugador == 2 else 2\n",
    "    dado = randint(1, 6)\n",
    "    problema = Problema(resultado_actual, jugador_1, jugador_2, jugador_inicial=True if jugador == 1 else False)\n",
    "    resultado = MINMAX(problema, profundidad=5, mover=dado)\n",
    "    print(\"El jugador {} ha sacado {}\".format(jugador, dado))\n",
    "    if resultado is not None: # Si es none es que no hay jugadas\n",
    "        resultado_actual = resultado\n",
    "        print(\"Resultado: {}\".format(resultado.utilidad))\n",
    "        print(\"Estado: {}\".format(resultado.padre.padre.padre.padre.padre.estado))\n",
    "        print(\"Accion: {}\".format(resultado.padre.padre.padre.padre.padre.accion))\n"
   ]
  }
 ],
 "metadata": {
  "interpreter": {
   "hash": "7ca09f3c6ee0b48880ad7adcf80484ff9058b415486be73c8076e08fe50e5b8f"
  },
  "kernelspec": {
   "display_name": "Python 3.10.0 64-bit",
   "language": "python",
   "name": "python3"
  },
  "language_info": {
   "codemirror_mode": {
    "name": "ipython",
    "version": 3
   },
   "file_extension": ".py",
   "mimetype": "text/x-python",
   "name": "python",
   "nbconvert_exporter": "python",
   "pygments_lexer": "ipython3",
   "version": "3.10.0"
  },
  "orig_nbformat": 4
 },
 "nbformat": 4,
 "nbformat_minor": 2
}
